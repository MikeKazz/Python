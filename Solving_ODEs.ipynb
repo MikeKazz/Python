{
  "nbformat": 4,
  "nbformat_minor": 0,
  "metadata": {
    "colab": {
      "name": "Solving_ODEs.ipynb",
      "provenance": [],
      "collapsed_sections": [],
      "authorship_tag": "ABX9TyPmS5EaGsgv7ZRzxHrDcWPd",
      "include_colab_link": true
    },
    "kernelspec": {
      "name": "python3",
      "display_name": "Python 3"
    },
    "language_info": {
      "name": "python"
    }
  },
  "cells": [
    {
      "cell_type": "markdown",
      "metadata": {
        "id": "view-in-github",
        "colab_type": "text"
      },
      "source": [
        "<a href=\"https://colab.research.google.com/github/mehrdadkazemi254/Python/blob/main/Solving_ODEs.ipynb\" target=\"_parent\"><img src=\"https://colab.research.google.com/assets/colab-badge.svg\" alt=\"Open In Colab\"/></a>"
      ]
    },
    {
      "cell_type": "code",
      "execution_count": 4,
      "metadata": {
        "id": "UFbfZX8usNkq"
      },
      "outputs": [],
      "source": [
        "import numpy as np\n",
        "import matplotlib.pyplot as plt\n",
        "from scipy.integrate import odeint"
      ]
    },
    {
      "cell_type": "markdown",
      "source": [
        "Link to the Google Doc containing the problem statement: https://docs.google.com/document/d/1I5mHOdxpRD7zvhaNEp1MAr0WUszQOJ6Xf96HmNTp5F4/edit?usp=sharing"
      ],
      "metadata": {
        "id": "-AlcbnmS0gz_"
      }
    },
    {
      "cell_type": "markdown",
      "source": [
        "**Roadmap**:\n",
        "1. Import dependencies \n",
        "2. Define a function with constants and the system of ODEs\n",
        "3. Assign the initial values\n",
        "4. define the time space\n",
        "4. Solve it using odeint\n",
        "5. Assign each variable to the corresponding column of the answer's matrix in (4)\n",
        "6. Plot the results"
      ],
      "metadata": {
        "id": "vsq1oyLSsRZT"
      }
    },
    {
      "cell_type": "code",
      "source": [
        "def odes(x,t): #x is the initial value vector and t is time\n",
        "  a1 = 3*10**5\n",
        "  a2 = 0.2\n",
        "  a3 = 4e-7\n",
        "  a4 = 0.6\n",
        "  a5 = 8\n",
        "  a6 = 90\n",
        "\n",
        "  A = x[0]\n",
        "  B = x[1]\n",
        "  C = x[2]\n",
        "\n",
        "  dA = a1 - a2*A*C\n",
        "  dB = a3*A*C - a4*B\n",
        "  dC = -a3*A*C - a5*C + a6*B\n",
        "\n",
        "  return([dA, dB, dC])"
      ],
      "metadata": {
        "id": "2j699eB7tVz6"
      },
      "execution_count": 7,
      "outputs": []
    },
    {
      "cell_type": "code",
      "source": [
        "x0 = [2e6, 0, 90]\n",
        "t = np.linspace(0,10,1000)"
      ],
      "metadata": {
        "id": "QODIFqFSzCq0"
      },
      "execution_count": 11,
      "outputs": []
    },
    {
      "cell_type": "code",
      "source": [
        "ans = odeint(odes ,x0 ,t)\n",
        "\n",
        "A = ans[:,0]\n",
        "B = ans[:,1]\n",
        "C = ans[:,2]"
      ],
      "metadata": {
        "id": "0s1LzkxYzRlB"
      },
      "execution_count": 13,
      "outputs": []
    },
    {
      "cell_type": "code",
      "source": [
        "plt.semilogy(t, A, label='A')\n",
        "plt.semilogy(t, B, label='B')\n",
        "plt.semilogy(t, C, label='C')\n",
        "plt.legend()\n",
        "plt.show()"
      ],
      "metadata": {
        "colab": {
          "base_uri": "https://localhost:8080/",
          "height": 265
        },
        "id": "aIX_rSt5zw11",
        "outputId": "41475891-04cc-4113-c50f-9f989dad8e26"
      },
      "execution_count": 19,
      "outputs": [
        {
          "output_type": "display_data",
          "data": {
            "image/png": "[encoded data removed]",
            "text/plain": [
              "<Figure size 432x288 with 1 Axes>"
            ]
          },
          "metadata": {
            "needs_background": "light"
          }
        }
      ]
    }
  ]
}