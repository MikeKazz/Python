{
  "nbformat": 4,
  "nbformat_minor": 0,
  "metadata": {
    "colab": {
      "name": "Tuple.ipynb",
      "provenance": [],
      "authorship_tag": "ABX9TyOs98UEE7EGQKBfAMhaTeAo",
      "include_colab_link": true
    },
    "kernelspec": {
      "name": "python3",
      "display_name": "Python 3"
    },
    "language_info": {
      "name": "python"
    }
  },
  "cells": [
    {
      "cell_type": "markdown",
      "metadata": {
        "id": "view-in-github",
        "colab_type": "text"
      },
      "source": [
        "<a href=\"https://colab.research.google.com/github/mehrdadkazemi254/Python/blob/main/Tuple.ipynb\" target=\"_parent\"><img src=\"https://colab.research.google.com/assets/colab-badge.svg\" alt=\"Open In Colab\"/></a>"
      ]
    },
    {
      "cell_type": "code",
      "execution_count": 33,
      "metadata": {
        "colab": {
          "base_uri": "https://localhost:8080/"
        },
        "id": "LnulI01gAE4-",
        "outputId": "201d9cfc-65b4-430f-9e24-b611b392b3d1"
      },
      "outputs": [
        {
          "output_type": "execute_result",
          "data": {
            "text/plain": [
              "2"
            ]
          },
          "metadata": {},
          "execution_count": 33
        }
      ],
      "source": [
        "mytuple1 = ('Mike', 'Jack', 'Jason')\n",
        "mytuple2 = \"Sarah\", 'Lucy', \"Anne\"\n",
        "mytuple3 = 'Mike', #even for a tuple with a single element you have to add \",\" otherwise it is gonna be for example a string in this case \n",
        "mytuple4 = tuple([i for i in range(3)])\n",
        "mytuple4[-1]"
      ]
    },
    {
      "cell_type": "code",
      "source": [
        "len(mytuple4)"
      ],
      "metadata": {
        "colab": {
          "base_uri": "https://localhost:8080/"
        },
        "id": "yZnnuPhiBf41",
        "outputId": "0c2c93d4-96f5-4d5d-b8ab-e5332b028096"
      },
      "execution_count": 34,
      "outputs": [
        {
          "output_type": "execute_result",
          "data": {
            "text/plain": [
              "3"
            ]
          },
          "metadata": {},
          "execution_count": 34
        }
      ]
    },
    {
      "cell_type": "code",
      "source": [
        "mytuple5 = tuple('hello there')\n",
        "mytuple5"
      ],
      "metadata": {
        "colab": {
          "base_uri": "https://localhost:8080/"
        },
        "id": "m0kb1pShBikU",
        "outputId": "89bca7ab-bfdf-4d90-eae9-74ad594fc894"
      },
      "execution_count": 35,
      "outputs": [
        {
          "output_type": "execute_result",
          "data": {
            "text/plain": [
              "('h', 'e', 'l', 'l', 'o', ' ', 't', 'h', 'e', 'r', 'e')"
            ]
          },
          "metadata": {},
          "execution_count": 35
        }
      ]
    },
    {
      "cell_type": "code",
      "source": [
        "mytuple5.count('l')"
      ],
      "metadata": {
        "colab": {
          "base_uri": "https://localhost:8080/"
        },
        "id": "2I7aVBENBwK7",
        "outputId": "47fde9c1-42e0-4b25-8ccb-a172a90d5d97"
      },
      "execution_count": 36,
      "outputs": [
        {
          "output_type": "execute_result",
          "data": {
            "text/plain": [
              "2"
            ]
          },
          "metadata": {},
          "execution_count": 36
        }
      ]
    },
    {
      "cell_type": "code",
      "source": [
        "mytuple5.index('l') #first index of occurance"
      ],
      "metadata": {
        "colab": {
          "base_uri": "https://localhost:8080/"
        },
        "id": "m7koy1rJBywz",
        "outputId": "90446daa-5d6b-4b9b-af74-945fe3ac3312"
      },
      "execution_count": 37,
      "outputs": [
        {
          "output_type": "execute_result",
          "data": {
            "text/plain": [
              "2"
            ]
          },
          "metadata": {},
          "execution_count": 37
        }
      ]
    },
    {
      "cell_type": "code",
      "source": [
        "list1 = list(mytuple5)\n",
        "list1"
      ],
      "metadata": {
        "colab": {
          "base_uri": "https://localhost:8080/"
        },
        "id": "JsJla-qiB_st",
        "outputId": "359ba82f-6821-4a60-db28-933fd71d7a9a"
      },
      "execution_count": 38,
      "outputs": [
        {
          "output_type": "execute_result",
          "data": {
            "text/plain": [
              "['h', 'e', 'l', 'l', 'o', ' ', 't', 'h', 'e', 'r', 'e']"
            ]
          },
          "metadata": {},
          "execution_count": 38
        }
      ]
    },
    {
      "cell_type": "code",
      "source": [
        "tuple(list1)"
      ],
      "metadata": {
        "colab": {
          "base_uri": "https://localhost:8080/"
        },
        "id": "j5h1R1m4CNWG",
        "outputId": "cfbee84a-2f72-4bcb-8442-6dfc01ea0209"
      },
      "execution_count": 39,
      "outputs": [
        {
          "output_type": "execute_result",
          "data": {
            "text/plain": [
              "('h', 'e', 'l', 'l', 'o', ' ', 't', 'h', 'e', 'r', 'e')"
            ]
          },
          "metadata": {},
          "execution_count": 39
        }
      ]
    },
    {
      "cell_type": "code",
      "source": [
        "mytuple5[:3]"
      ],
      "metadata": {
        "colab": {
          "base_uri": "https://localhost:8080/"
        },
        "id": "pMdVJM3_CfPN",
        "outputId": "909a0bd6-a8ba-4ba6-de16-bdd1576de7a8"
      },
      "execution_count": 40,
      "outputs": [
        {
          "output_type": "execute_result",
          "data": {
            "text/plain": [
              "('h', 'e', 'l')"
            ]
          },
          "metadata": {},
          "execution_count": 40
        }
      ]
    },
    {
      "cell_type": "code",
      "source": [
        "mytuple5[::-1]"
      ],
      "metadata": {
        "colab": {
          "base_uri": "https://localhost:8080/"
        },
        "id": "6FRtiiYQCWUn",
        "outputId": "07f29741-400c-4544-ed64-b37d8fd105d3"
      },
      "execution_count": 41,
      "outputs": [
        {
          "output_type": "execute_result",
          "data": {
            "text/plain": [
              "('e', 'r', 'e', 'h', 't', ' ', 'o', 'l', 'l', 'e', 'h')"
            ]
          },
          "metadata": {},
          "execution_count": 41
        }
      ]
    },
    {
      "cell_type": "code",
      "source": [
        "mytuple2 = \"Sarah\", 'Lucy', \"Anne\"\n",
        "a1, a2, a3 = mytuple2\n",
        "print(a1)\n",
        "print(a2)\n",
        "print(a3)"
      ],
      "metadata": {
        "colab": {
          "base_uri": "https://localhost:8080/"
        },
        "id": "JHSQeLBXCkKT",
        "outputId": "7729c768-ce49-4459-e306-7bd81224ccc0"
      },
      "execution_count": 42,
      "outputs": [
        {
          "output_type": "stream",
          "name": "stdout",
          "text": [
            "Sarah\n",
            "Lucy\n",
            "Anne\n"
          ]
        }
      ]
    },
    {
      "cell_type": "markdown",
      "source": [
        "# Using * in tuple unpacking"
      ],
      "metadata": {
        "id": "b8TwvyKiC9F5"
      }
    },
    {
      "cell_type": "code",
      "source": [
        "t1 = tuple([i for i in range(6)])\n",
        "q1, q2, *q3, q4 , q5= t1\n",
        "print(q1)\n",
        "print(q2)\n",
        "print(q3)\n",
        "print(q4)\n",
        "print(q5)"
      ],
      "metadata": {
        "colab": {
          "base_uri": "https://localhost:8080/"
        },
        "id": "wHn5DR35DDTJ",
        "outputId": "83ee0b3b-dfdd-46e0-9f2f-b1aabae9dcfb"
      },
      "execution_count": 43,
      "outputs": [
        {
          "output_type": "stream",
          "name": "stdout",
          "text": [
            "0\n",
            "1\n",
            "[2, 3]\n",
            "4\n",
            "5\n"
          ]
        }
      ]
    },
    {
      "cell_type": "markdown",
      "source": [
        "iterating through tuples is more effective than lists"
      ],
      "metadata": {
        "id": "JVzV9koDEJA3"
      }
    }
  ]
}