{
  "nbformat": 4,
  "nbformat_minor": 0,
  "metadata": {
    "colab": {
      "name": "Dictionary.ipynb",
      "provenance": [],
      "collapsed_sections": [],
      "authorship_tag": "ABX9TyN5m7nwYUYMLPiBZOXgGnMe",
      "include_colab_link": true
    },
    "kernelspec": {
      "name": "python3",
      "display_name": "Python 3"
    },
    "language_info": {
      "name": "python"
    }
  },
  "cells": [
    {
      "cell_type": "markdown",
      "metadata": {
        "id": "view-in-github",
        "colab_type": "text"
      },
      "source": [
        "<a href=\"https://colab.research.google.com/github/mehrdadkazemi254/Python/blob/main/Dictionary.ipynb\" target=\"_parent\"><img src=\"https://colab.research.google.com/assets/colab-badge.svg\" alt=\"Open In Colab\"/></a>"
      ]
    },
    {
      "cell_type": "markdown",
      "source": [
        "Dictionaries are mapping of unique keys to values\n",
        "\n",
        "Key: Independent variable\n",
        " \n",
        "Value: Dependent variable\n"
      ],
      "metadata": {
        "id": "3PhzMCwqUuz7"
      }
    },
    {
      "cell_type": "code",
      "execution_count": 34,
      "metadata": {
        "id": "sF7BurEKzqxN"
      },
      "outputs": [],
      "source": [
        "import csv\n",
        "\n",
        "with open(r\"/content/treeorderssubsetnodupes.csv\", mode='r') as infile:\n",
        "  reader = csv.reader(infile)\n",
        "\n",
        "  my_dict = {}\n",
        "  \n",
        "  for row in reader:\n",
        "    key = row[0]\n",
        "    my_dict[key] = row[1]\n",
        "# now all the elements in the first column are keys and all the elements in the second column are associated values\n",
        "# we just turned our data into a dict"
      ]
    },
    {
      "cell_type": "markdown",
      "source": [
        "# **How to find the max value and the key associated with it**"
      ],
      "metadata": {
        "id": "hVsXk6XR-gC6"
      }
    },
    {
      "cell_type": "code",
      "source": [
        "sal_info = {\"Austin\": 78000, 'New York': 87000, 'Atlanta': 88000, 'Toronto': 99000}\n",
        "\n",
        "max_key = max(sal_info, key=sal_info.get)\n",
        "print('max key',max_key)\n",
        "\n",
        "min_key = min(sal_info, key=sal_info.get)\n",
        "print('min key',min_key)"
      ],
      "metadata": {
        "id": "gzYfTYaD21to",
        "colab": {
          "base_uri": "https://localhost:8080/"
        },
        "outputId": "b14c8867-dba8-4b76-99f1-a0fd4419f919"
      },
      "execution_count": 35,
      "outputs": [
        {
          "output_type": "stream",
          "name": "stdout",
          "text": [
            "max key Toronto\n",
            "min key Austin\n"
          ]
        }
      ]
    },
    {
      "cell_type": "code",
      "source": [
        "#to find the max value, we turn it into  a list\n",
        "values = sal_info.values()\n",
        "max(values)"
      ],
      "metadata": {
        "colab": {
          "base_uri": "https://localhost:8080/"
        },
        "id": "8nYkgz7J_G99",
        "outputId": "055c126b-4958-48cc-ca49-b766cab29a42"
      },
      "execution_count": 36,
      "outputs": [
        {
          "output_type": "execute_result",
          "data": {
            "text/plain": [
              "99000"
            ]
          },
          "metadata": {},
          "execution_count": 36
        }
      ]
    },
    {
      "cell_type": "markdown",
      "source": [
        "**.pop()**\n",
        "\n",
        "**.popitems**\n",
        "\n",
        "**del**"
      ],
      "metadata": {
        "id": "yzcvV6rY_rbm"
      }
    },
    {
      "cell_type": "code",
      "source": [
        "poped = sal_info.pop('Austin')\n",
        "sal_info"
      ],
      "metadata": {
        "colab": {
          "base_uri": "https://localhost:8080/"
        },
        "id": "mgfXH4pw_2Br",
        "outputId": "81a2d217-4469-4c8c-b5cb-3656c02d9598"
      },
      "execution_count": 37,
      "outputs": [
        {
          "output_type": "execute_result",
          "data": {
            "text/plain": [
              "{'Atlanta': 88000, 'New York': 87000, 'Toronto': 99000}"
            ]
          },
          "metadata": {},
          "execution_count": 37
        }
      ]
    },
    {
      "cell_type": "code",
      "source": [
        "sal_info.popitem() #randomly pop an item\n",
        "sal_info"
      ],
      "metadata": {
        "colab": {
          "base_uri": "https://localhost:8080/"
        },
        "id": "cIaXntZNAM0t",
        "outputId": "e740eab1-c33a-44f9-910d-7852423080f3"
      },
      "execution_count": 38,
      "outputs": [
        {
          "output_type": "execute_result",
          "data": {
            "text/plain": [
              "{'Atlanta': 88000, 'New York': 87000}"
            ]
          },
          "metadata": {},
          "execution_count": 38
        }
      ]
    },
    {
      "cell_type": "code",
      "source": [
        "del sal_info['Atlanta']\n",
        "sal_info"
      ],
      "metadata": {
        "colab": {
          "base_uri": "https://localhost:8080/"
        },
        "id": "mn-rfvOnI0rR",
        "outputId": "04b68465-837c-4ec5-de4d-37fbc259558c"
      },
      "execution_count": 39,
      "outputs": [
        {
          "output_type": "execute_result",
          "data": {
            "text/plain": [
              "{'New York': 87000}"
            ]
          },
          "metadata": {},
          "execution_count": 39
        }
      ]
    },
    {
      "cell_type": "code",
      "source": [
        "#multiple rows with the same key\n",
        "\n",
        "with open(r\"/content/TreeOrdersSubset.csv\", mode='r') as infile:\n",
        "  reader = csv.reader(infile)\n",
        "\n",
        "  new_dict = {}\n",
        "\n",
        "  key_list = []\n",
        "  value_list = []\n",
        "\n",
        "  for row in reader:\n",
        "    key_list.append(row[0])\n",
        "    value_list.append(row[1])\n",
        "  for i in key_list:\n",
        "    if key_list.count(i) > 1:\n",
        "      ind = [j for j,val in enumerate(key_list) if val == i]\n",
        "      sum_i = sum([int(value_list[e]) for e in ind])\n",
        "      new_dict[i] = sum_i\n",
        "  infile.close()"
      ],
      "metadata": {
        "id": "ah5Ue-JCFeTj"
      },
      "execution_count": 40,
      "outputs": []
    },
    {
      "cell_type": "markdown",
      "source": [
        "# Python Comprehensions:\n",
        "1. list comprehension\n",
        "2. dictionary comprehension\n",
        "3. set comprehension\n",
        "4. generator expressions"
      ],
      "metadata": {
        "id": "jB4zxCMqEyVb"
      }
    },
    {
      "cell_type": "code",
      "source": [
        "#making a dict using dict() function\n",
        "favorite_language = dict(Mike='Python', David= 'Ruby', Amro='R', Sarah='Python')\n",
        "favorite_language"
      ],
      "metadata": {
        "colab": {
          "base_uri": "https://localhost:8080/"
        },
        "id": "zP6g4Qh1E_bX",
        "outputId": "ba7e601c-1653-404a-deb6-45f298a02ef7"
      },
      "execution_count": 41,
      "outputs": [
        {
          "output_type": "execute_result",
          "data": {
            "text/plain": [
              "{'Amro': 'R', 'David': 'Ruby', 'Mike': 'Python', 'Sarah': 'Python'}"
            ]
          },
          "metadata": {},
          "execution_count": 41
        }
      ]
    },
    {
      "cell_type": "markdown",
      "source": [
        "Now, let's build *favorite_language* using dictionary comprehension"
      ],
      "metadata": {
        "id": "ycrNgjdXFuAq"
      }
    },
    {
      "cell_type": "code",
      "source": [
        "names = ['Mike', 'David', 'Amro', 'Sarah']\n",
        "languages = ['Python', 'Ruby', 'R', 'Python']\n",
        "\n",
        "fav_lang = {names[i]:languages[i] for i in range(len(names))}\n",
        "fav_lang"
      ],
      "metadata": {
        "colab": {
          "base_uri": "https://localhost:8080/"
        },
        "id": "po59PRYAFiPd",
        "outputId": "ad998ba2-fc57-4979-90e3-228ab786d43b"
      },
      "execution_count": 42,
      "outputs": [
        {
          "output_type": "execute_result",
          "data": {
            "text/plain": [
              "{'Amro': 'R', 'David': 'Ruby', 'Mike': 'Python', 'Sarah': 'Python'}"
            ]
          },
          "metadata": {},
          "execution_count": 42
        }
      ]
    },
    {
      "cell_type": "code",
      "source": [
        "#filtering through the dictionary using comprehension\n",
        "python_lovers = {k:v for k,v in fav_lang.items() if v == 'Python'}\n",
        "python_lovers"
      ],
      "metadata": {
        "colab": {
          "base_uri": "https://localhost:8080/"
        },
        "id": "hfWlqMWLGni6",
        "outputId": "35d27303-a0a7-43b7-ce95-0af7a42e05e0"
      },
      "execution_count": 43,
      "outputs": [
        {
          "output_type": "execute_result",
          "data": {
            "text/plain": [
              "{'Mike': 'Python', 'Sarah': 'Python'}"
            ]
          },
          "metadata": {},
          "execution_count": 43
        }
      ]
    },
    {
      "cell_type": "markdown",
      "source": [
        "**How to merge two dictionaries**"
      ],
      "metadata": {
        "id": "8cte1c_HJvGr"
      }
    },
    {
      "cell_type": "code",
      "source": [
        "dict1 = {'name':'Mary', 'age':28, 'email':'mary@xyz'}\n",
        "dict2 = {'name':'John', 'age':30, 'pet':'cat'}\n",
        "dict1.update(dict2)\n",
        "dict1"
      ],
      "metadata": {
        "colab": {
          "base_uri": "https://localhost:8080/"
        },
        "id": "4xDr3Ct1JykD",
        "outputId": "d10d521c-8156-42f0-b1d8-290307511748"
      },
      "execution_count": 47,
      "outputs": [
        {
          "output_type": "execute_result",
          "data": {
            "text/plain": [
              "{'age': 30, 'email': 'mary@xyz', 'name': 'John', 'pet': 'cat'}"
            ]
          },
          "metadata": {},
          "execution_count": 47
        }
      ]
    }
  ]
}